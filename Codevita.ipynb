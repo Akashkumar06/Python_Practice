{
 "cells": [
  {
   "cell_type": "code",
   "execution_count": null,
   "metadata": {},
   "outputs": [],
   "source": [
    "'''\n",
    "Solution for \"Philaland Coin\" problem\n",
    "by Smit J.\n",
    "'''\n",
    "\n",
    "t = int(input()) # `t` is no. of testcases\n",
    "if not 1 <= t <= 100:\n",
    "    exit()\n",
    "\n",
    "all_max_prices = []\n",
    "for i in range(t):\n",
    "    n = int(input()) # `n` is price of costliest item on island\n",
    "    if not 1 <= n <= 5000:\n",
    "        exit()\n",
    "    all_max_prices.append(n)\n",
    "\n",
    "main_sequence=[]\n",
    "for each_max in all_max_prices:\n",
    "    coin_sequence=[]\n",
    "    for k in range(1, int(each_max) + 1):\n",
    "        coin_sequence.append(k)\n",
    "    main_sequence.append(coin_sequence)\n",
    "# print(main_sequence)\n",
    "\n",
    "'''\n",
    "main logic to reduce number of coins\n",
    "-> So when the sum of first minimum coin values if more of equal to max coin value, we will stop adding more coins in list\n",
    "'''\n",
    "reduced_main_sequence=[]\n",
    "for seq in main_sequence:\n",
    "    coinSum = 0\n",
    "    count = 0\n",
    "    for priceVal in seq:\n",
    "       coinSum += priceVal\n",
    "       count += 1\n",
    "       if coinSum >= seq[-1]:\n",
    "           break\n",
    "    print(f'min no. of coins is {count}, and sum is {coinSum}.')\n",
    "    print(count, end='\\n')"
   ]
  },
  {
   "cell_type": "code",
   "execution_count": null,
   "metadata": {},
   "outputs": [],
   "source": []
  },
  {
   "cell_type": "code",
   "execution_count": null,
   "metadata": {},
   "outputs": [],
   "source": []
  },
  {
   "cell_type": "code",
   "execution_count": null,
   "metadata": {},
   "outputs": [],
   "source": [
    "."
   ]
  }
 ],
 "metadata": {
  "kernelspec": {
   "display_name": "Python 3",
   "language": "python",
   "name": "python3"
  },
  "language_info": {
   "codemirror_mode": {
    "name": "ipython",
    "version": 3
   },
   "file_extension": ".py",
   "mimetype": "text/x-python",
   "name": "python",
   "nbconvert_exporter": "python",
   "pygments_lexer": "ipython3",
   "version": "3.7.4"
  }
 },
 "nbformat": 4,
 "nbformat_minor": 2
}
