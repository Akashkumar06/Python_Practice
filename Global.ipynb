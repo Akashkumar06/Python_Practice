{
 "cells": [
  {
   "cell_type": "code",
   "execution_count": 6,
   "metadata": {},
   "outputs": [
    {
     "name": "stdout",
     "output_type": "stream",
     "text": [
      "12\n",
      "12\n"
     ]
    }
   ],
   "source": [
    "x=6\n",
    "def val():\n",
    "    global x\n",
    "    x=x+6\n",
    "    print(x)\n",
    "val()\n",
    "print(x)"
   ]
  },
  {
   "cell_type": "code",
   "execution_count": 7,
   "metadata": {},
   "outputs": [
    {
     "name": "stdout",
     "output_type": "stream",
     "text": [
      "88\n",
      "6\n"
     ]
    }
   ],
   "source": [
    "x=6\n",
    "def val():\n",
    "\n",
    "    x=88\n",
    "    print(x)\n",
    "val()\n",
    "print(x)"
   ]
  },
  {
   "cell_type": "code",
   "execution_count": 8,
   "metadata": {},
   "outputs": [
    {
     "name": "stdout",
     "output_type": "stream",
     "text": [
      "bdsk nonlocal\n",
      "value:bdsk nonlocal\n"
     ]
    }
   ],
   "source": [
    "\n",
    "def outer():\n",
    "    x=\"local\"\n",
    "    def inner():\n",
    "        nonlocal x;\n",
    "        x=\"bdsk nonlocal\"\n",
    "        print(x)\n",
    "    inner()\n",
    "    print(\"value:\"+x)\n",
    "outer()\n",
    "\n",
    "\n",
    "    \n",
    "    "
   ]
  },
  {
   "cell_type": "code",
   "execution_count": 14,
   "metadata": {
    "scrolled": true
   },
   "outputs": [
    {
     "name": "stdout",
     "output_type": "stream",
     "text": [
      "10\n",
      "10\n"
     ]
    }
   ],
   "source": [
    "x=3\n",
    "def add3():\n",
    "    global x\n",
    "    x=x+7\n",
    "    print(x)\n",
    "add3()\n",
    "print(x)\n",
    "    "
   ]
  },
  {
   "cell_type": "code",
   "execution_count": 20,
   "metadata": {},
   "outputs": [
    {
     "name": "stdout",
     "output_type": "stream",
     "text": [
      "Before calling bar: 20\n",
      "Calling inner....\n",
      "After calling bar : 20\n",
      "x in main: 25\n"
     ]
    }
   ],
   "source": [
    "def Outer():\n",
    "    x=20\n",
    "    def Inner():\n",
    "        \n",
    "        global x\n",
    "        x=25\n",
    "    print(\"Before calling bar:\",x)\n",
    "    print(\"Calling inner....\")\n",
    "    Inner()\n",
    "    print(\"After calling bar :\",x)\n",
    "Outer()\n",
    "print(\"x in main:\",x)"
   ]
  },
  {
   "cell_type": "code",
   "execution_count": null,
   "metadata": {},
   "outputs": [],
   "source": []
  }
 ],
 "metadata": {
  "kernelspec": {
   "display_name": "Python 3",
   "language": "python",
   "name": "python3"
  },
  "language_info": {
   "codemirror_mode": {
    "name": "ipython",
    "version": 3
   },
   "file_extension": ".py",
   "mimetype": "text/x-python",
   "name": "python",
   "nbconvert_exporter": "python",
   "pygments_lexer": "ipython3",
   "version": "3.7.4"
  }
 },
 "nbformat": 4,
 "nbformat_minor": 2
}
