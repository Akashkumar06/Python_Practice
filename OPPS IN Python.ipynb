{
 "cells": [
  {
   "cell_type": "code",
   "execution_count": null,
   "metadata": {},
   "outputs": [],
   "source": []
  },
  {
   "cell_type": "code",
   "execution_count": 58,
   "metadata": {},
   "outputs": [
    {
     "name": "stdout",
     "output_type": "stream",
     "text": [
      "Inside Init..\n",
      "2099121301896\n",
      "Inside Init..\n",
      "2099121299848\n",
      "I3 With 8GB RAM and 1TB HDD\n",
      "\n",
      "Ryzen 3 With 4GB RAM and 1TB HDD\n",
      "\n"
     ]
    }
   ],
   "source": [
    "class Computer():\n",
    "    def __init__(self , gpu, ram):\n",
    "        self.gpu=gpu\n",
    "        self.ram=ram\n",
    "        print(\"Inside Init..\")\n",
    "    def config(self):\n",
    "        print(\"{} With {} RAM and 1TB HDD\\n\".format(self.gpu,self.ram))\n",
    "\n",
    "c1=Computer(\"I3\",\"8GB\")\n",
    "print(id(c1))\n",
    "c2=Computer(\"Ryzen 3\",\"4GB\")\n",
    "\n",
    "print(id(c2))\n",
    "\n",
    "c1.config()\n",
    "c2.config()\n"
   ]
  },
  {
   "cell_type": "code",
   "execution_count": 59,
   "metadata": {},
   "outputs": [
    {
     "name": "stdout",
     "output_type": "stream",
     "text": [
      "Data2 Constructor\n",
      "Data ID is 10 and Name is Secret\n"
     ]
    }
   ],
   "source": [
    "class Data2:\n",
    " \n",
    "    def __init__(self, i, n):\n",
    "        print('Data2 Constructor')\n",
    "        self.id = i\n",
    "        self.name = n\n",
    " \n",
    " \n",
    "d2 = Data2(10, 'Secret')\n",
    "print(f'Data ID is {d2.id} and Name is {d2.name}')\n"
   ]
  },
  {
   "cell_type": "code",
   "execution_count": 82,
   "metadata": {},
   "outputs": [],
   "source": [
    "class Human():\n",
    "    def __init__(self,Name,Age):\n",
    "        self.name=Name\n",
    "        self.age=Age\n",
    "    def person(self):\n",
    "        print(\"Dear {} is just {} Years Old!\\n\".format(self.name,self.age))\n",
    "    def update(self):\n",
    "        self.age=17\n",
    "    def checkpoint(self):\n",
    "        if self.age<18:\n",
    "            return True\n",
    "        else :\n",
    "            return False\n",
    "        \n",
    "        \n",
    "        \n",
    "        \n",
    "        \n",
    "\n"
   ]
  },
  {
   "cell_type": "code",
   "execution_count": 83,
   "metadata": {},
   "outputs": [
    {
     "name": "stdout",
     "output_type": "stream",
     "text": [
      "Dear Akash is just 21 Years Old!\n",
      "\n",
      "<class '__main__.Human'>\n",
      "Dear Akash is just 17 Years Old!\n",
      "\n",
      "Dear Vikrant is just 29 Years Old!\n",
      "\n"
     ]
    }
   ],
   "source": [
    "A=Human(\"Akash\",21)\n",
    "B=Human(\"Vikrant\",29)\n",
    "A.person()\n",
    "print(type(A))\n",
    "A.update()\n",
    "A.person()\n",
    "B.person()\n",
    "\n"
   ]
  },
  {
   "cell_type": "code",
   "execution_count": 84,
   "metadata": {},
   "outputs": [
    {
     "name": "stdout",
     "output_type": "stream",
     "text": [
      "Sorry You are not eligible For vote!\n"
     ]
    }
   ],
   "source": [
    "if A.checkpoint():\n",
    "    print(\"Sorry You are not eligible For vote!\")\n",
    "else:\n",
    "    print(\"Congro eligible For vote!\")\n",
    "    "
   ]
  },
  {
   "cell_type": "code",
   "execution_count": 85,
   "metadata": {},
   "outputs": [
    {
     "name": "stdout",
     "output_type": "stream",
     "text": [
      "Congro eligible For vote!\n"
     ]
    }
   ],
   "source": [
    "\n",
    "if B.checkpoint():\n",
    "    print(\"Sorry You are not eligible For vote!\")\n",
    "else:\n",
    "    print(\"Congro eligible For vote!\")\n"
   ]
  },
  {
   "cell_type": "code",
   "execution_count": null,
   "metadata": {},
   "outputs": [],
   "source": [
    "\n",
    "\n",
    "    \n",
    "        "
   ]
  },
  {
   "cell_type": "code",
   "execution_count": 95,
   "metadata": {},
   "outputs": [
    {
     "ename": "AttributeError",
     "evalue": "'Computer' object has no attribute 'Model'",
     "output_type": "error",
     "traceback": [
      "\u001b[1;31m---------------------------------------------------------------------------\u001b[0m",
      "\u001b[1;31mAttributeError\u001b[0m                            Traceback (most recent call last)",
      "\u001b[1;32m<ipython-input-95-650052273037>\u001b[0m in \u001b[0;36m<module>\u001b[1;34m\u001b[0m\n\u001b[0;32m      1\u001b[0m \u001b[0mc1\u001b[0m\u001b[1;33m=\u001b[0m\u001b[0mCar\u001b[0m\u001b[1;33m(\u001b[0m\u001b[1;33m)\u001b[0m\u001b[1;33m\u001b[0m\u001b[1;33m\u001b[0m\u001b[0m\n\u001b[0;32m      2\u001b[0m \u001b[0mc2\u001b[0m\u001b[1;33m=\u001b[0m\u001b[0mCar\u001b[0m\u001b[1;33m(\u001b[0m\u001b[1;33m)\u001b[0m\u001b[1;33m\u001b[0m\u001b[1;33m\u001b[0m\u001b[0m\n\u001b[1;32m----> 3\u001b[1;33m \u001b[0mprint\u001b[0m\u001b[1;33m(\u001b[0m\u001b[0mc1\u001b[0m\u001b[1;33m.\u001b[0m\u001b[0mveriable\u001b[0m\u001b[1;33m,\u001b[0m\u001b[0mc\u001b[0m\u001b[1;33m.\u001b[0m\u001b[0mModel\u001b[0m\u001b[1;33m,\u001b[0m\u001b[0mc1\u001b[0m\u001b[1;33m.\u001b[0m\u001b[0mPrice\u001b[0m\u001b[1;33m,\u001b[0m\u001b[0mc1\u001b[0m\u001b[1;33m.\u001b[0m\u001b[0mflag\u001b[0m\u001b[1;33m)\u001b[0m\u001b[1;33m\u001b[0m\u001b[1;33m\u001b[0m\u001b[0m\n\u001b[0m",
      "\u001b[1;31mAttributeError\u001b[0m: 'Computer' object has no attribute 'Model'"
     ]
    }
   ],
   "source": []
  },
  {
   "cell_type": "code",
   "execution_count": 96,
   "metadata": {},
   "outputs": [],
   "source": [
    "class Car():\n",
    "    flag=1\n",
    "    \n",
    "    def __init__(self):\n",
    "        self.veriable=10\n",
    "        self.Model=\"BMW\"\n",
    "        self.Price=10000000\n"
   ]
  },
  {
   "cell_type": "code",
   "execution_count": 103,
   "metadata": {},
   "outputs": [
    {
     "name": "stdout",
     "output_type": "stream",
     "text": [
      "10 BMW 10000000 1\n",
      "10 Nano 10000000 1\n"
     ]
    }
   ],
   "source": [
    "c6=Car()\n",
    "c7=Car()\n",
    "c7.Model=\"Nano\"\n",
    "\n",
    "\n",
    "print(c6.veriable,c6.Model,c6.Price,c6.flag)\n",
    "print(c7.veriable,c7.Model,c7.Price,c7.flag)"
   ]
  },
  {
   "cell_type": "code",
   "execution_count": null,
   "metadata": {},
   "outputs": [],
   "source": []
  }
 ],
 "metadata": {
  "kernelspec": {
   "display_name": "Python 3",
   "language": "python",
   "name": "python3"
  },
  "language_info": {
   "codemirror_mode": {
    "name": "ipython",
    "version": 3
   },
   "file_extension": ".py",
   "mimetype": "text/x-python",
   "name": "python",
   "nbconvert_exporter": "python",
   "pygments_lexer": "ipython3",
   "version": "3.7.4"
  }
 },
 "nbformat": 4,
 "nbformat_minor": 2
}
