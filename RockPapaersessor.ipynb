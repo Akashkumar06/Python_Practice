{
 "cells": [
  {
   "cell_type": "code",
   "execution_count": 1,
   "metadata": {},
   "outputs": [
    {
     "ename": "IndentationError",
     "evalue": "expected an indented block (<ipython-input-1-46e8a924b53b>, line 8)",
     "output_type": "error",
     "traceback": [
      "\u001b[1;36m  File \u001b[1;32m\"<ipython-input-1-46e8a924b53b>\"\u001b[1;36m, line \u001b[1;32m8\u001b[0m\n\u001b[1;33m    print(\"Now please enter your choice no. \\n 1. Rock \\n 2. paper \\n 3. scissor \\n\")\u001b[0m\n\u001b[1;37m        ^\u001b[0m\n\u001b[1;31mIndentationError\u001b[0m\u001b[1;31m:\u001b[0m expected an indented block\n"
     ]
    }
   ],
   "source": []
  },
  {
   "cell_type": "code",
   "execution_count": null,
   "metadata": {},
   "outputs": [],
   "source": [
    "import random\n",
    "while True :\n",
    "    print(\"Now please A choice no. \\n 1. Rock \\n 2. paper \\n 3. scissor \\n\")\n",
    "    ch = int(input(\"Now Your turn: \"))\n",
    "    if ch==1 :\n",
    "        c='Rock'\n",
    "    elif ch==2 :\n",
    "        c= 'paper'\n",
    "    else:\n",
    "        c='scissor'\n",
    "    print(\"Your choice is: \" + c)\n",
    "    print(\"\\n Now Oponent tern choose other value than your oponent: \")\n",
    "    ch1 = random.randint(1, 3)\n",
    "    if ch1==1 :\n",
    "        c1='Rock'\n",
    "    elif ch1==2 :\n",
    "        c1= 'paper'\n",
    "    else:\n",
    "        c1='scissor'\n",
    "    print(\"Your choice is: \" + c1)\n",
    "    \n",
    "    print(c + \" v/s \" + c1)\n",
    "    if (ch == 1 and ch1 == 2) or(ch == 2 and ch1 ==1 ):\n",
    "        print(\"Paper wins => \", end = \"\")\n",
    "        val='paper'\n",
    "    \n",
    "   \n",
    "\n",
    "    elif (ch == 1 and ch1 == 3) or(ch == 3 and ch1 ==1 ):\n",
    "        print(\"Rock wins => \", end = \"\")\n",
    "        val='rock'\n",
    "    \n",
    "    else \n",
    "        print(\"Sessior wins => \", end = \"\")\n",
    "        val='sessior'\n",
    "    if(val==ch):\n",
    "        print(\"You win\")\n",
    "    if(val==ch1)\n",
    "        print(\"You loose\")\n",
    "           \n",
    "    print(\"Do you want to play again? (Y/N)\")\n",
    "    n = input()\n",
    "     \n",
    "    if n== 'n' or ans == 'N':\n",
    "        break\n",
    "    \n",
    "    \n",
    "    \n",
    "    \n"
   ]
  },
  {
   "cell_type": "code",
   "execution_count": null,
   "metadata": {},
   "outputs": [],
   "source": []
  },
  {
   "cell_type": "code",
   "execution_count": null,
   "metadata": {},
   "outputs": [],
   "source": []
  }
 ],
 "metadata": {
  "kernelspec": {
   "display_name": "Python 3",
   "language": "python",
   "name": "python3"
  },
  "language_info": {
   "codemirror_mode": {
    "name": "ipython",
    "version": 3
   },
   "file_extension": ".py",
   "mimetype": "text/x-python",
   "name": "python",
   "nbconvert_exporter": "python",
   "pygments_lexer": "ipython3",
   "version": "3.7.4"
  }
 },
 "nbformat": 4,
 "nbformat_minor": 2
}
