{
 "cells": [
  {
   "cell_type": "code",
   "execution_count": 16,
   "metadata": {
    "scrolled": true
   },
   "outputs": [
    {
     "name": "stdout",
     "output_type": "stream",
     "text": [
      "1 T1\n",
      "2 h1\n",
      "3 e1\n",
      "4 M1\n",
      "5 e1\n",
      "6 n1\n",
      "7 W1\n",
      "8 i1\n",
      "9 t1\n",
      "10 h1\n",
      "11 S1\n",
      "12 u1\n",
      "13 p1\n",
      "14 e1\n",
      "15 r1\n",
      "16 P1\n",
      "17 o1\n",
      "18 w1\n",
      "19 e1\n",
      "20 r1\n"
     ]
    }
   ],
   "source": [
    "\n",
    "latter =\"TheMenWithSuperPower\"\n",
    "for index,value in enumerate (latter):\n",
    "        print(index+1,value+'1')\n",
    "        #print(value)\n",
    "        #print('\\n')\n",
    "    "
   ]
  },
  {
   "cell_type": "code",
   "execution_count": null,
   "metadata": {},
   "outputs": [],
   "source": []
  }
 ],
 "metadata": {
  "kernelspec": {
   "display_name": "Python 3",
   "language": "python",
   "name": "python3"
  },
  "language_info": {
   "codemirror_mode": {
    "name": "ipython",
    "version": 3
   },
   "file_extension": ".py",
   "mimetype": "text/x-python",
   "name": "python",
   "nbconvert_exporter": "python",
   "pygments_lexer": "ipython3",
   "version": "3.7.4"
  }
 },
 "nbformat": 4,
 "nbformat_minor": 2
}
