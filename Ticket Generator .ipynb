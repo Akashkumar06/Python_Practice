{
 "cells": [
  {
   "cell_type": "code",
   "execution_count": 42,
   "metadata": {},
   "outputs": [
    {
     "name": "stdout",
     "output_type": "stream",
     "text": [
      "['AI:USA:Bih:182', 'AI:USA:Bih:105', 'AI:USA:Bih:108', 'AI:USA:Bih:131', 'AI:USA:Bih:170']\n"
     ]
    }
   ],
   "source": [
    "#python Code for generating ticket using random module \n",
    "\n",
    "# Write a python program to generate the ticket numbers for specified number of passengers traveling in a flight as per the details mentioned below:\n",
    "# The ticket number should be generated as airline:src:dest:number\n",
    "# where :\n",
    "# 1. Consider AI as the value for airline\n",
    "# 2. src and dest should be the first three characters of the source and destination cities.\n",
    "# 3. number should be auto-generated starting from 101\n",
    "# The program should return the list of ticket numbers of last five passengers.\n",
    "# Note: If passenger count is less than 5, return the list of all generated ticket numbers.\n",
    "\n",
    "import random\n",
    "def tickedgerator(airline,src,dest,number):\n",
    "    \n",
    "    ticket=[]\n",
    "    \n",
    "    if(number>=5):\n",
    "        for i in range(5):\n",
    "            \n",
    "             ticket.append(airline + \":\" + src[:3] + \":\" + dest[:3] + \":\" + str(random.randint(101,200)))\n",
    "            \n",
    "             number = number - 1\n",
    "        ticket = ticket[::-1]\n",
    "    else:\n",
    "        while number != 0:\n",
    "            ticket.append(airline + \":\" + src[:3] + \":\" + dest[:3] + \":\" +  str(random.randint(101,200)))\n",
    "            \n",
    "            number = number - 1\n",
    "    \n",
    "\n",
    "    return ticket\n",
    " \n",
    "print(tickedgerator(\"AI\",\"USA\",\"Bihar\",10))     \n",
    "    "
   ]
  },
  {
   "cell_type": "code",
   "execution_count": 40,
   "metadata": {},
   "outputs": [
    {
     "name": "stdout",
     "output_type": "stream",
     "text": [
      "['AI:Ban:Lon:124', 'AI:Ban:Lon:124', 'AI:Ban:Lon:192', 'AI:Ban:Lon:149', 'AI:Ban:Lon:108']\n"
     ]
    }
   ],
   "source": []
  },
  {
   "cell_type": "code",
   "execution_count": null,
   "metadata": {},
   "outputs": [],
   "source": []
  },
  {
   "cell_type": "code",
   "execution_count": null,
   "metadata": {},
   "outputs": [],
   "source": []
  }
 ],
 "metadata": {
  "kernelspec": {
   "display_name": "Python 3",
   "language": "python",
   "name": "python3"
  },
  "language_info": {
   "codemirror_mode": {
    "name": "ipython",
    "version": 3
   },
   "file_extension": ".py",
   "mimetype": "text/x-python",
   "name": "python",
   "nbconvert_exporter": "python",
   "pygments_lexer": "ipython3",
   "version": "3.7.4"
  }
 },
 "nbformat": 4,
 "nbformat_minor": 2
}
