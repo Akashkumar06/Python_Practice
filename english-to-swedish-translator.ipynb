{
 "cells": [
  {
   "cell_type": "code",
   "execution_count": 2,
   "metadata": {},
   "outputs": [
    {
     "name": "stdout",
     "output_type": "stream",
     "text": [
      "Translated Words Are: ['och', 'gott']\n"
     ]
    }
   ],
   "source": [
    "#English Swidish Translator USing Python\n",
    "# Represent a small bilingual (English-Swedish) glossary given below as a Python dictionary\n",
    "# {\"merry\":\"god\", \"christmas\":\"jul\", \"and\":\"och\", \"happy\":\"gott\", \"new\":\"nytt\", \"year\":\"ar\"}\n",
    "# and use it to translate your Christmas wishes from English into Swedish.\n",
    "# That is, write a python function translate() that accepts the bilingual dictionary and a list of English words (your Christmas wish) and returns a list of equivalent Swedish words\n",
    "\n",
    "def translateintoswedish(newdict,edict):\n",
    "    sdict = []\n",
    "    for i in edict:\n",
    "        sdict.append(newdict[i])\n",
    "\n",
    "    return sdict\n",
    "\n",
    "newdict= {\"merry\":\"god\", \"christmas\":\"jul\", \"and\":\"och\", \"happy\":\"gott\", \"new\":\"nytt\", \"year\":\"ar\"}\n",
    "edict=[\"and\",\"happy\"]\n",
    "sdict=translateintoswedish(newdict, edict)\n",
    "print(\"Translated Words Are:\",sdict)"
   ]
  },
  {
   "cell_type": "code",
   "execution_count": null,
   "metadata": {},
   "outputs": [],
   "source": []
  }
 ],
 "metadata": {
  "kernelspec": {
   "display_name": "Python 3",
   "language": "python",
   "name": "python3"
  },
  "language_info": {
   "codemirror_mode": {
    "name": "ipython",
    "version": 3
   },
   "file_extension": ".py",
   "mimetype": "text/x-python",
   "name": "python",
   "nbconvert_exporter": "python",
   "pygments_lexer": "ipython3",
   "version": "3.7.4"
  }
 },
 "nbformat": 4,
 "nbformat_minor": 2
}
