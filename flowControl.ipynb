{
 "cells": [
  {
   "cell_type": "code",
   "execution_count": 4,
   "metadata": {},
   "outputs": [
    {
     "name": "stdout",
     "output_type": "stream",
     "text": [
      " oh i'm wrong folks\n"
     ]
    }
   ],
   "source": [
    "if  1>2:\n",
    "    print(\"hey folks i'm right\")\n",
    "else:\n",
    "    print(\" oh i'm wrong folks\")"
   ]
  },
  {
   "cell_type": "code",
   "execution_count": 6,
   "metadata": {},
   "outputs": [
    {
     "name": "stdout",
     "output_type": "stream",
     "text": [
      "not hungry\n"
     ]
    }
   ],
   "source": [
    "hungry =True;\n",
    "if hungry==False:\n",
    "    print(\"Feed me\")\n",
    "else:\n",
    "    print(\"not hungry\")"
   ]
  },
  {
   "cell_type": "code",
   "execution_count": 11,
   "metadata": {},
   "outputs": [
    {
     "name": "stdout",
     "output_type": "stream",
     "text": [
      "yummi foods are healthy \n"
     ]
    }
   ],
   "source": [
    "loc=\"Resturent\"\n",
    "if loc==\"Tample\":\n",
    "    print(\"Tample are good\")\n",
    "elif loc==\"Autoshop\":\n",
    "    print(\"cars are Amazing\")\n",
    "elif loc ==\"Resturent\":\n",
    "    print(\"yummi foods are healthy \")\n",
    "elif loc ==\"Bank\":\n",
    "    print(\"money is not secure\")\n",
    "else:\n",
    "    print(\"i don't know much about it\")\n",
    "    "
   ]
  },
  {
   "cell_type": "code",
   "execution_count": null,
   "metadata": {},
   "outputs": [],
   "source": []
  }
 ],
 "metadata": {
  "kernelspec": {
   "display_name": "Python 3",
   "language": "python",
   "name": "python3"
  },
  "language_info": {
   "codemirror_mode": {
    "name": "ipython",
    "version": 3
   },
   "file_extension": ".py",
   "mimetype": "text/x-python",
   "name": "python",
   "nbconvert_exporter": "python",
   "pygments_lexer": "ipython3",
   "version": "3.7.4"
  }
 },
 "nbformat": 4,
 "nbformat_minor": 2
}
